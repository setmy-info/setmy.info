{
 "cells": [
  {
   "cell_type": "markdown",
   "id": "64bfe0de-5eff-4512-9803-1dd462aa1209",
   "metadata": {},
   "source": [
    "1. Install Julia\n",
    "\n",
    "2. Execute Julia\n",
    "\n",
    "3. Install Juliaapackages with:\n",
    "\n",
    "```julia\n",
    "using Pkg\n",
    "Pkg.add(\"IJulia\")\n",
    "Pkg.add(\"DataFrames\")\n",
    "Pkg.add(\"CSV\")\n",
    "Pkg.add(\"Plots\")\n",
    "```"
   ]
  },
  {
   "cell_type": "code",
   "execution_count": 3,
   "id": "0382ec7b-91e0-45ad-b48f-6026585c0766",
   "metadata": {
    "tags": []
   },
   "outputs": [
    {
     "name": "stdout",
     "output_type": "stream",
     "text": [
      "Geeksforgeeks is fantastic!\n"
     ]
    }
   ],
   "source": [
    "println(\"Geeksforgeeks is fantastic!\")"
   ]
  },
  {
   "cell_type": "code",
   "execution_count": null,
   "id": "2c86a3b0-cc8f-46e0-b804-42e6aeafc10a",
   "metadata": {},
   "outputs": [],
   "source": []
  }
 ],
 "metadata": {
  "kernelspec": {
   "display_name": "Julia 1.8.4",
   "language": "julia",
   "name": "julia-1.8"
  },
  "language_info": {
   "file_extension": ".jl",
   "mimetype": "application/julia",
   "name": "julia",
   "version": "1.8.4"
  }
 },
 "nbformat": 4,
 "nbformat_minor": 5
}
