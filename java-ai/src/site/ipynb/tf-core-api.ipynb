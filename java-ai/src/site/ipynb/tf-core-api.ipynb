{
 "cells": [
  {
   "cell_type": "code",
   "execution_count": 25,
   "id": "c7e2b3b3-3051-4f35-968b-6d6ce219f355",
   "metadata": {
    "tags": []
   },
   "outputs": [
    {
     "name": "stdout",
     "output_type": "stream",
     "text": [
      "2.11.0\n"
     ]
    }
   ],
   "source": [
    "import tensorflow as tf\n",
    "import numpy as np\n",
    "import tensorflow as tf\n",
    "import matplotlib.pyplot as plt\n",
    "print(tf.__version__)"
   ]
  },
  {
   "cell_type": "code",
   "execution_count": 26,
   "id": "4e1cdd37-20f0-42d0-98d4-c9f861311905",
   "metadata": {
    "tags": []
   },
   "outputs": [],
   "source": [
    "a = tf.constant(3.0)\n",
    "b = tf.constant(5.0)"
   ]
  },
  {
   "cell_type": "code",
   "execution_count": 27,
   "id": "140ae1ad-e1b8-4822-b6a9-7db8664c1e6d",
   "metadata": {
    "tags": []
   },
   "outputs": [],
   "source": [
    "c = a*b"
   ]
  },
  {
   "cell_type": "code",
   "execution_count": 28,
   "id": "05172a28-3aeb-44dc-96f3-7e65ae8b4e7e",
   "metadata": {
    "tags": []
   },
   "outputs": [
    {
     "name": "stdout",
     "output_type": "stream",
     "text": [
      "tf.Tensor(15.0, shape=(), dtype=float32)\n"
     ]
    }
   ],
   "source": [
    "print(c)"
   ]
  },
  {
   "cell_type": "code",
   "execution_count": 29,
   "id": "9077e6c7-3177-4166-9d4e-47b1c8c867a5",
   "metadata": {
    "tags": []
   },
   "outputs": [],
   "source": [
    "c1 = tf.constant(5, name = 'x')\n",
    "c2 = tf.constant(6.0, tf.float32, name = 'y')\n",
    "c3 = tf.constant(7.0, tf.float32, name = 'z')"
   ]
  },
  {
   "cell_type": "code",
   "execution_count": 30,
   "id": "63f638f9-96a1-4c6b-9d4d-a9455f0c6542",
   "metadata": {
    "tags": []
   },
   "outputs": [
    {
     "name": "stdout",
     "output_type": "stream",
     "text": [
      "c1:  tf.Tensor(5, shape=(), dtype=int32)\n",
      "c2:  tf.Tensor(6.0, shape=(), dtype=float32)\n",
      "c3:  tf.Tensor(7.0, shape=(), dtype=float32)\n"
     ]
    }
   ],
   "source": [
    "print('c1: ', c1)\n",
    "print('c2: ', c2)\n",
    "print('c3: ', c3)"
   ]
  },
  {
   "cell_type": "code",
   "execution_count": 31,
   "id": "168cee3b-29c8-49fe-a07f-47085579d5dd",
   "metadata": {
    "tags": []
   },
   "outputs": [],
   "source": [
    "op1 = tf.multiply(c3,c2)\n",
    "op2 = tf.add(c2,c3)"
   ]
  },
  {
   "cell_type": "code",
   "execution_count": 32,
   "id": "3f12cfb9-beda-4b53-821a-3d58fb7a1518",
   "metadata": {
    "tags": []
   },
   "outputs": [
    {
     "name": "stdout",
     "output_type": "stream",
     "text": [
      "op1:  tf.Tensor(42.0, shape=(), dtype=float32)\n",
      "op2:  tf.Tensor(13.0, shape=(), dtype=float32)\n"
     ]
    }
   ],
   "source": [
    "print('op1: ', op1)\n",
    "print('op2: ', op2)"
   ]
  },
  {
   "cell_type": "code",
   "execution_count": 33,
   "id": "b6a7cab9-ca79-4216-88c0-97689c186572",
   "metadata": {
    "tags": []
   },
   "outputs": [
    {
     "name": "stdout",
     "output_type": "stream",
     "text": [
      "tensor:  tf.Tensor(5.0, shape=(), dtype=float32)\n"
     ]
    }
   ],
   "source": [
    "tensor = tf.convert_to_tensor(5.0, tf.float32)\n",
    "print('tensor: ', tensor)"
   ]
  },
  {
   "cell_type": "code",
   "execution_count": 34,
   "id": "d0ba6cac-74b1-4826-a866-aa786dbd33d1",
   "metadata": {
    "tags": []
   },
   "outputs": [],
   "source": [
    "a3dim = np.array([[1, 2]])\n",
    "b3dim = np.array([[1], [2]])"
   ]
  },
  {
   "cell_type": "code",
   "execution_count": 35,
   "id": "df0e2bb3-bd5a-4f19-9164-a6d0cb07cb53",
   "metadata": {
    "tags": []
   },
   "outputs": [],
   "source": [
    "tf_a3dim = tf.convert_to_tensor(a3dim, dtype=tf.float64)\n",
    "tf_b3dim = tf.convert_to_tensor(b3dim, dtype=tf.float64)"
   ]
  },
  {
   "cell_type": "code",
   "execution_count": 36,
   "id": "244a7894-49f0-49e4-bdcd-16791870409f",
   "metadata": {
    "tags": []
   },
   "outputs": [
    {
     "name": "stdout",
     "output_type": "stream",
     "text": [
      "tf.Tensor([[5.]], shape=(1, 1), dtype=float64)\n"
     ]
    }
   ],
   "source": [
    "result = tf.matmul(tf_a3dim, tf_b3dim)\n",
    "print(result)"
   ]
  },
  {
   "cell_type": "code",
   "execution_count": 37,
   "id": "d4027519-e0f5-470c-8bc9-8f3b8ed5ee90",
   "metadata": {
    "tags": []
   },
   "outputs": [],
   "source": [
    "w = tf.Variable([.3], tf.float32)\n",
    "b = tf.Variable([-.3], tf.float32)"
   ]
  },
  {
   "cell_type": "code",
   "execution_count": 38,
   "id": "c8e8b566-6357-451c-8af5-40d41f7749ab",
   "metadata": {
    "tags": []
   },
   "outputs": [],
   "source": [
    "x = np.arange(1,5)"
   ]
  },
  {
   "cell_type": "code",
   "execution_count": 39,
   "id": "242aed95-c769-4c00-af56-af95c06f9bbb",
   "metadata": {
    "tags": []
   },
   "outputs": [
    {
     "name": "stdout",
     "output_type": "stream",
     "text": [
      "tf.Tensor([0.         0.3        0.6        0.90000004], shape=(4,), dtype=float32)\n"
     ]
    },
    {
     "data": {
      "image/png": "[encoded data removed]",
      "text/plain": [
       "<Figure size 640x480 with 1 Axes>"
      ]
     },
     "metadata": {},
     "output_type": "display_data"
    }
   ],
   "source": [
    "y = w * x + b\n",
    "\n",
    "print(y)\n",
    "\n",
    "plt.plot(x,y)\n",
    "plt.show()"
   ]
  },
  {
   "cell_type": "code",
   "execution_count": 45,
   "id": "23a0f05d-f340-457d-88b3-4b8c87bd84c5",
   "metadata": {
    "tags": []
   },
   "outputs": [],
   "source": [
    "g = tf.Graph()\n",
    "with g.as_default():\n",
    "    a = tf.constant(15, name=\"a\")\n",
    "    b = tf.constant(30.0)\n",
    "    c = tf.constant(30.0)\n",
    "    s = tf.Variable(2, name=\"scalar\")\n",
    "    m = tf.Variable([[1, 2], [3, 4]], name=\"matrix\") \n",
    "    W = tf.Variable(tf.zeros([784,10]))\n",
    "    assert c.graph is g"
   ]
  },
  {
   "cell_type": "code",
   "execution_count": 46,
   "id": "a2998e87-338d-4ffb-bcca-59ada7c0ed4b",
   "metadata": {
    "tags": []
   },
   "outputs": [],
   "source": [
    "%load_ext tensorboard"
   ]
  },
  {
   "cell_type": "code",
   "execution_count": 47,
   "id": "f434b1b6-dedb-4447-b782-01b8df01eaae",
   "metadata": {
    "tags": []
   },
   "outputs": [
    {
     "data": {
      "text/plain": [
       "Reusing TensorBoard on port 6006 (pid 21320), started 0:06:29 ago. (Use '!kill 21320' to kill it.)"
      ]
     },
     "metadata": {},
     "output_type": "display_data"
    },
    {
     "data": {
      "text/html": [
       "\n",
       "      <iframe id=\"tensorboard-frame-7b191c49a87cc355\" width=\"100%\" height=\"800\" frameborder=\"0\">\n",
       "      </iframe>\n",
       "      <script>\n",
       "        (function() {\n",
       "          const frame = document.getElementById(\"tensorboard-frame-7b191c49a87cc355\");\n",
       "          const url = new URL(\"/\", window.location);\n",
       "          const port = 6006;\n",
       "          if (port) {\n",
       "            url.port = port;\n",
       "          }\n",
       "          frame.src = url;\n",
       "        })();\n",
       "      </script>\n",
       "    "
      ],
      "text/plain": [
       "<IPython.core.display.HTML object>"
      ]
     },
     "metadata": {},
     "output_type": "display_data"
    }
   ],
   "source": [
    "%tensorboard --logdir logs/fit"
   ]
  },
  {
   "cell_type": "code",
   "execution_count": null,
   "id": "bc2ecca0-4113-4a19-8905-1c9971d00611",
   "metadata": {},
   "outputs": [],
   "source": []
  }
 ],
 "metadata": {
  "kernelspec": {
   "display_name": "Python 3 (ipykernel)",
   "language": "python",
   "name": "python3"
  },
  "language_info": {
   "codemirror_mode": {
    "name": "ipython",
    "version": 3
   },
   "file_extension": ".py",
   "mimetype": "text/x-python",
   "name": "python",
   "nbconvert_exporter": "python",
   "pygments_lexer": "ipython3",
   "version": "3.10.9"
  }
 },
 "nbformat": 4,
 "nbformat_minor": 5
}
