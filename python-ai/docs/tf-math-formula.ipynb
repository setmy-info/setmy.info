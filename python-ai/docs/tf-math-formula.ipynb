{
 "cells": [
  {
   "cell_type": "markdown",
   "id": "00a9cebe-b14b-4fc0-91ab-192183705b63",
   "metadata": {},
   "source": [
    "* [Graph](https://www.tensorflow.org/api_docs/python/tf/Graph)\n",
    "* [Variable](https://www.tensorflow.org/api_docs/python/tf/Variable)\n",
    "* [Placeholder](https://www.tensorflow.org/api_docs/python/tf/raw_ops/Placeholder)\n",
    "* [DType](https://www.tensorflow.org/api_docs/python/tf/dtypes/DType)\n",
    "* [constant](https://www.tensorflow.org/api_docs/python/tf/constant)\n",
    "* [multiply](https://www.tensorflow.org/api_docs/python/tf/math/multiply)\n",
    "* [add](https://www.tensorflow.org/api_docs/python/tf/math/add)\n",
    "* [function](https://www.tensorflow.org/api_docs/python/tf/function)"
   ]
  },
  {
   "cell_type": "markdown",
   "id": "2958448f-c7f8-4a7b-98d3-eb12aabf7257",
   "metadata": {},
   "source": [
    "z = f(x, y) = a*x + b*y\n",
    "\n",
    "where **a**, **b** are constants:\n",
    "* a = 1.0\n",
    "* b = 2.0\n",
    "\n",
    "and **x**, **y** are variables, for example:\n",
    "* x = 3.0\n",
    "* y = 4.0\n",
    "\n",
    "Result **z** should be:\n",
    "* z = 11.0"
   ]
  },
  {
   "cell_type": "code",
   "execution_count": 68,
   "id": "1a1377fa-39b6-4b69-97db-07b90460268a",
   "metadata": {
    "tags": []
   },
   "outputs": [
    {
     "data": {
      "text/plain": [
       "11.0"
      ]
     },
     "execution_count": 68,
     "metadata": {},
     "output_type": "execute_result"
    }
   ],
   "source": [
    "1.0 * 3.0 + 2.0 * 4.0"
   ]
  },
  {
   "cell_type": "code",
   "execution_count": 69,
   "id": "879931af-6951-481d-9586-9fa89010c07f",
   "metadata": {
    "tags": []
   },
   "outputs": [],
   "source": [
    "import os\n",
    "import numpy as np\n",
    "import pandas as pd\n",
    "import matplotlib as mpl\n",
    "import matplotlib.pyplot as plt\n",
    "import seaborn as sns\n",
    "import tensorflow as tf\n",
    "import datetime\n",
    "import timeit"
   ]
  },
  {
   "cell_type": "code",
   "execution_count": 70,
   "id": "bd9e0e27-3a1d-4820-ac15-8ba969adbe30",
   "metadata": {
    "tags": []
   },
   "outputs": [
    {
     "name": "stdout",
     "output_type": "stream",
     "text": [
      "2.11.0\n"
     ]
    }
   ],
   "source": [
    "print(tf.__version__)"
   ]
  },
  {
   "cell_type": "code",
   "execution_count": 71,
   "id": "e64b948c-a289-442e-9135-c0a35e2fda1b",
   "metadata": {
    "tags": []
   },
   "outputs": [],
   "source": [
    "project_name=\"tf-math-formula\"\n",
    "logs_location = \"logs/\" + project_name + \"/\"\n",
    "fit_location = logs_location + datetime.datetime.now().strftime(\"%Y%m%d-%H%M%S\")\n",
    "tensorboard_callback = tf.keras.callbacks.TensorBoard(log_dir=fit_location, histogram_freq=1)\n",
    "models_location = fit_location + \"/models\"\n",
    "graph_name = project_name + \".pb\"\n",
    "graph_name_text = project_name + \".pbtxt\""
   ]
  },
  {
   "cell_type": "code",
   "execution_count": 72,
   "id": "c2427c8f-88c5-4776-8682-f845246a19b6",
   "metadata": {
    "tags": []
   },
   "outputs": [
    {
     "name": "stdout",
     "output_type": "stream",
     "text": [
      "3\n",
      "2\n",
      "5\n"
     ]
    }
   ],
   "source": [
    "x = tf.Variable(3.0, dtype=tf.float64, name=\"x\")\n",
    "y = tf.Variable(2.0, dtype=tf.float64, name=\"y\")\n",
    "add = tf.add(x, y)\n",
    "tf.print(x)\n",
    "tf.print(y)\n",
    "tf.print(add)"
   ]
  },
  {
   "cell_type": "code",
   "execution_count": 73,
   "id": "cacd74e0-82ba-4852-957f-202112d649bf",
   "metadata": {
    "tags": []
   },
   "outputs": [],
   "source": [
    "g = tf.Graph()\n",
    "with g.as_default():\n",
    "    x = tf.Variable(3.0, dtype=tf.float64, name=\"x\")\n",
    "    y = tf.Variable(2.0, dtype=tf.float64, name=\"y\")\n",
    "    add = tf.add(x, y)\n",
    "    tf.print(x)\n",
    "    tf.print(y)\n",
    "    tf.print(add)"
   ]
  },
  {
   "cell_type": "code",
   "execution_count": 74,
   "id": "5377f24a-2ddf-4e1d-8ee5-cbf85d82763d",
   "metadata": {
    "tags": []
   },
   "outputs": [
    {
     "data": {
      "text/plain": [
       "'logs/tf-math-formula/20230218-193128/models\\\\add-graph.pbtxt'"
      ]
     },
     "execution_count": 74,
     "metadata": {},
     "output_type": "execute_result"
    }
   ],
   "source": [
    "graph_name = \"add-graph.pb\"\n",
    "tf.io.write_graph(g, models_location, graph_name, as_text=False)\n",
    "tf.io.write_graph(g, models_location, graph_name + \"txt\")"
   ]
  },
  {
   "cell_type": "code",
   "execution_count": 75,
   "id": "850bfbb9-22a4-4c68-b9fa-5d9116d23df3",
   "metadata": {
    "tags": []
   },
   "outputs": [
    {
     "name": "stdout",
     "output_type": "stream",
     "text": [
      "add_mul_a_x_mul_b_y:  Tensor(\"add_mul_a_x_mul_b_y:0\", shape=(), dtype=float64)\n",
      "a:  Tensor(\"a:0\", shape=(), dtype=float64)\n",
      "b:  Tensor(\"b:0\", shape=(), dtype=float64)\n",
      "x:  <tf.Variable 'x:0' shape=() dtype=float64>\n",
      "y:  <tf.Variable 'y:0' shape=() dtype=float64>\n",
      "mul_a_x:  Tensor(\"multiply-a-x:0\", shape=(), dtype=float64)\n",
      "mul_b_y:  Tensor(\"multiply-b-y:0\", shape=(), dtype=float64)\n",
      "add:  Tensor(\"Add:0\", shape=(), dtype=float64)\n",
      "<tensorflow.python.framework.ops.Graph object at 0x0000014490F5A320>\n"
     ]
    }
   ],
   "source": [
    "# tf.config.run_functions_eagerly(False)\n",
    "g = tf.Graph()\n",
    "with g.as_default():\n",
    "    # z = a * x + b * y\n",
    "    a = tf.constant(1.0, dtype=tf.float64, name=\"a\")\n",
    "    b = tf.constant(2.0, dtype=tf.float64, name=\"b\")\n",
    "    x = tf.Variable(3.0, dtype=tf.float64, name=\"x\")\n",
    "    y = tf.Variable(4.0, dtype=tf.float64, name=\"y\")\n",
    "    assert a.graph is g\n",
    "    assert b.graph is g\n",
    "    assert x.graph is g\n",
    "    assert y.graph is g\n",
    "    xPlaceholder = tf.raw_ops.Placeholder(dtype=tf.float64, name=\"xPlaceholder\")\n",
    "    yPlaceholder = tf.raw_ops.Placeholder(dtype=tf.float64, name=\"yPlaceholder\")\n",
    "    mul_a_x = tf.math.multiply(a, x, name=\"multiply-a-x\") # same as mul_a_x = a * x\n",
    "    mul_b_y = tf.multiply(b, y, name=\"multiply-b-y\") # same as mul_b_y = b * y\n",
    "    add_mul_a_x_mul_b_y = tf.math.add(mul_a_x, mul_b_y, name=\"add_mul_a_x_mul_b_y\")\n",
    "    assert xPlaceholder.graph is g\n",
    "    assert yPlaceholder.graph is g\n",
    "    print('add_mul_a_x_mul_b_y: ', add_mul_a_x_mul_b_y)\n",
    "    add = tf.math.add(x, y)\n",
    "    tf.print(add)\n",
    "    print('a: ', a)\n",
    "    print('b: ', b)\n",
    "    print('x: ', x)\n",
    "    print('y: ', y)\n",
    "    print('mul_a_x: ', mul_a_x)\n",
    "    print('mul_b_y: ', mul_b_y)\n",
    "    print(\"add: \", add)\n",
    "    print(g)"
   ]
  },
  {
   "cell_type": "code",
   "execution_count": 76,
   "id": "0b0dd852-3605-4477-b67f-1d7ffbbcfe2b",
   "metadata": {},
   "outputs": [
    {
     "data": {
      "text/plain": [
       "'logs/tf-math-formula/20230218-193128/models\\\\tf-math-formula.pbtxt'"
      ]
     },
     "execution_count": 76,
     "metadata": {},
     "output_type": "execute_result"
    }
   ],
   "source": [
    "tf.io.write_graph(g, models_location, graph_name, as_text=False)\n",
    "tf.io.write_graph(g, models_location, graph_name_text)"
   ]
  },
  {
   "cell_type": "code",
   "execution_count": 77,
   "id": "df1ac89f-78aa-4525-8163-75df4b653415",
   "metadata": {},
   "outputs": [
    {
     "name": "stdout",
     "output_type": "stream",
     "text": [
      "First branch, with graph: 1\n",
      "Second branch, with graph: 0\n"
     ]
    }
   ],
   "source": [
    "def simple_relu(x):\n",
    "    if tf.greater(x, 0):\n",
    "        return x\n",
    "    else:\n",
    "        return 0\n",
    "\n",
    "# `tf_simple_relu` is a TensorFlow `Function` that wraps `simple_relu`.\n",
    "tf_simple_relu = tf.function(simple_relu)\n",
    "\n",
    "print(\"First branch, with graph:\", tf_simple_relu(tf.constant(1)).numpy())\n",
    "print(\"Second branch, with graph:\", tf_simple_relu(tf.constant(-1)).numpy())\n"
   ]
  }
 ],
 "metadata": {
  "kernelspec": {
   "display_name": "Python 3 (ipykernel)",
   "language": "python",
   "name": "python3"
  },
  "language_info": {
   "codemirror_mode": {
    "name": "ipython",
    "version": 3
   },
   "file_extension": ".py",
   "mimetype": "text/x-python",
   "name": "python",
   "nbconvert_exporter": "python",
   "pygments_lexer": "ipython3",
   "version": "3.10.9"
  }
 },
 "nbformat": 4,
 "nbformat_minor": 5
}
